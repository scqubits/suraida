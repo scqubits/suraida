{
 "cells": [
  {
   "metadata": {},
   "cell_type": "markdown",
   "source": [
    "# Example\n",
    "\n",
    "The purpose of the `suraida` package is to provide a relatively lightweight solution for quickly creating interactive plots, similar to what is achieved withe Mathematica's `manipulate`.\n",
    "\n",
    "The `suraida` package provides two classes: `Manipulate` and `InteractivePlot`.\n",
    "\n",
    "* The `Manipulate` class supports plots of functions of one variable (and some number of parameters which are made tunable by sliders).\n",
    "* The `InteractivePlot` class is more flexible, but requires use of matplotlib instructions for plotting.\n",
    "\n",
    "## The `Manipulate` class\n",
    "\n",
    "Start by importing the `suraida` package. We will also make use of `numpy` along the way.\n",
    "Generally, it is nice to use a vector graphics backend for matplotlib plots, though not required or enforced by `suraida`."
   ],
   "id": "9700b511-3e4e-4837-af3e-27eb3ab5f9d2"
  },
  {
   "cell_type": "code",
   "execution_count": 1,
   "id": "5d1f1e21-7c2f-4984-94eb-1c3cdb15b125",
   "metadata": {},
   "outputs": [],
   "source": [
    "import suraida as sr\n",
    "import numpy as np\n",
    "\n",
    "# The next two lines enable vector graphics output, this is optional.\n",
    "import matplotlib_inline.backend_inline\n",
    "matplotlib_inline.backend_inline.set_matplotlib_formats(\"pdf\", \"svg\")"
   ]
  },
  {
   "cell_type": "markdown",
   "id": "62dca867-5d14-48b0-b944-7e701bfb31b3",
   "metadata": {},
   "source": [
    "### 1. `Manipulate`: single real-valued function\n",
    "Start with the simplest type of example: plotting a single function of one variable with a couple of parameters to be manipulated via sliders. Suppose that function is $$f(t) = \\sin(at -b)$$\n",
    "where $t$ is the function's variable and $a,\\,b$ are external parameters."
   ]
  },
  {
   "cell_type": "code",
   "execution_count": 2,
   "id": "17dc2aca-c11b-4977-bd3e-d2eb16e2c010",
   "metadata": {},
   "outputs": [],
   "source": [
    "def func1(t, a, b):\n",
    "    return np.sin(a * t - b)"
   ]
  },
  {
   "cell_type": "code",
   "execution_count": 3,
   "id": "3d7691fd-6403-403b-afc8-67cc5a3867b8",
   "metadata": {},
   "outputs": [
    {
     "data": {
      "application/vnd.jupyter.widget-view+json": {
       "model_id": "d351bd5f29d846609a855eff9131f989",
       "version_major": 2,
       "version_minor": 0
      },
      "text/plain": [
       "Dialog(children=[Card(children=[CardTitle(children=['Adjust Figure Settings'], layout=None), CardText(children…"
      ]
     },
     "metadata": {},
     "output_type": "display_data"
    },
    {
     "data": {
      "application/vnd.jupyter.widget-view+json": {
       "model_id": "b3eb0840c3dc44df8e7c22a09723f645",
       "version_major": 2,
       "version_minor": 0
      },
      "text/plain": [
       "Container(children=[Container(children=[Container(children=[Output(layout=Layout(overflow='hidden'))], class_=…"
      ]
     },
     "metadata": {},
     "output_type": "display_data"
    }
   ],
   "source": [
    "tst = sr.Manipulate(\n",
    "    func1,   # specify function to be plotted \n",
    "    [\"t\", 0, 4*np.pi, 0.2],         # [<var name>, <min>, <max>, <step>]\n",
    "    [                               # list of parameter names and ranges\n",
    "        [\"a\", 0, 1.0, 0.1, 0.4],    # [<paramname>, <min>, <max>, <step>, <initial>]\n",
    "        [\"b\", 0, 2.0, 0.1]          # When <initial> is omitted, suraida starts at the midpoint value between min and max\n",
    "    ]   \n",
    ")"
   ]
  },
  {
   "cell_type": "markdown",
   "id": "fc562ef3-e347-43b6-b720-ccf1402ce7a3",
   "metadata": {},
   "source": [
    "### 2. `Manipulate`: multiple real-valued functions\n",
    "\n",
    "Multiple real-valued functions can be plotted simultaneously as long as they depend on the same variable. \n",
    "\n",
    "The functions can be provided as a simple list. This will generate vertical stack of plots. More generally, functions can be arranged in a 2d numpy array, which is converted into a corresponding grid of plots. "
   ]
  },
  {
   "cell_type": "code",
   "execution_count": 4,
   "id": "06ea4918-63c7-4ce3-83d0-351cfd94b230",
   "metadata": {},
   "outputs": [],
   "source": [
    "def f1(t, a, b):\n",
    "    return np.sin(a * t - b)\n",
    "\n",
    "def f2(t, a, c):\n",
    "    return np.cos(a * t - c)\n",
    "\n",
    "def f3(t, d):\n",
    "    return np.tan(t - d)"
   ]
  },
  {
   "cell_type": "code",
   "execution_count": 5,
   "id": "a59336ad-36f6-4ced-9598-b22b4cdd5f2d",
   "metadata": {},
   "outputs": [
    {
     "data": {
      "application/vnd.jupyter.widget-view+json": {
       "model_id": "51947e2b0f864ac889163d64c86a1940",
       "version_major": 2,
       "version_minor": 0
      },
      "text/plain": [
       "Dialog(children=[Card(children=[CardTitle(children=['Adjust Figure Settings'], layout=None), CardText(children…"
      ]
     },
     "metadata": {},
     "output_type": "display_data"
    },
    {
     "data": {
      "application/vnd.jupyter.widget-view+json": {
       "model_id": "11ce9a112bb84a229ca092204df43dd8",
       "version_major": 2,
       "version_minor": 0
      },
      "text/plain": [
       "Container(children=[Container(children=[Container(children=[Output(layout=Layout(overflow='hidden'))], class_=…"
      ]
     },
     "metadata": {},
     "output_type": "display_data"
    }
   ],
   "source": [
    "tst2 = sr.Manipulate(\n",
    "    [f1, f2, f3],\n",
    "    [\"t\", 0, 3*np.pi, 0.1],\n",
    "    [\n",
    "        [\"a\", 0, 1.0, 0.1, 0.4],\n",
    "        [\"b\", 0, 2.0, 0.1],\n",
    "        [\"c\", -1, 0, 0.1],\n",
    "        [\"d\", np.linspace(-0.5, 0.5, 100)]    # This shows one more alternative parameter definition: provide a list of allowed values\n",
    "    ]\n",
    ")"
   ]
  },
  {
   "cell_type": "markdown",
   "id": "8fb661dc-072e-46b2-a2de-5a9a40cd35b2",
   "metadata": {},
   "source": [
    "## The `InteractivePlot` class\n",
    "\n",
    "The `InteractivePlot` class allows a bit more flexibility than `Manipulate` by directly manipulating the `matplotlib.Axes` objects.\n",
    "\n",
    "This opens the possibility of including other types of plots altogether, and of plotting functions of different variables. \n",
    "\n",
    "The expected functions are now expected to directly modify the `ax` object handed in as the first argument of the function. The remaining work of plotting now must be accomplished within each function:  "
   ]
  },
  {
   "cell_type": "code",
   "execution_count": 6,
   "id": "30d38b2f-7e6d-4327-978e-18437ef71a5a",
   "metadata": {},
   "outputs": [],
   "source": [
    "def plot_sine(ax, a, b):\n",
    "    ax.plot(np.linspace(0, 7, 100), np.sin(a * np.linspace(0, 7, 100) - b))\n",
    "\n",
    "def plot_cosine(ax, a, c):\n",
    "    ax.plot(np.linspace(0, 7, 100), np.cos(a * np.linspace(0, 7, 100) - c))\n",
    "    \n",
    "def plot_tan(ax, d):\n",
    "    ax.scatter(np.linspace(0, 7, 100), np.tan(np.linspace(-np.pi, np.pi, 100) - d), color='lightblue',edgecolor='black')\n",
    "    ax.set_ylim(bottom=-50, top=50)\n"
   ]
  },
  {
   "cell_type": "code",
   "execution_count": 7,
   "id": "4669643a-76c4-4a4a-850b-e11a1f78a6ca",
   "metadata": {},
   "outputs": [
    {
     "data": {
      "application/vnd.jupyter.widget-view+json": {
       "model_id": "d6954c5d814b4909835108043e4d5afb",
       "version_major": 2,
       "version_minor": 0
      },
      "text/plain": [
       "Dialog(children=[Card(children=[CardTitle(children=['Adjust Figure Settings'], layout=None), CardText(children…"
      ]
     },
     "metadata": {},
     "output_type": "display_data"
    },
    {
     "data": {
      "application/vnd.jupyter.widget-view+json": {
       "model_id": "bc24e48166524f23bc7ec792bce7c064",
       "version_major": 2,
       "version_minor": 0
      },
      "text/plain": [
       "Container(children=[Container(children=[Container(children=[Output(layout=Layout(overflow='hidden'))], class_=…"
      ]
     },
     "metadata": {},
     "output_type": "display_data"
    }
   ],
   "source": [
    "tst = sr.InteractivePlot(\n",
    "    [[plot_sine, plot_cosine], [plot_tan, None]], \n",
    "    [\n",
    "        [\"a\", 0, 1.0, 0.1, 0.4],\n",
    "        [\"b\", 0, 2.0, 0.1],\n",
    "        [\"c\", -1, 0, 0.1],\n",
    "        [\"d\", np.linspace(-0.5, 0.5, 100)]\n",
    "    ]\n",
    ")\n"
   ]
  },
  {
   "metadata": {},
   "cell_type": "code",
   "outputs": [],
   "execution_count": null,
   "source": "",
   "id": "a7cbfab0a695e253"
  }
 ],
 "metadata": {
  "kernelspec": {
   "display_name": "Python 3 (ipykernel)",
   "language": "python",
   "name": "python3"
  },
  "language_info": {
   "codemirror_mode": {
    "name": "ipython",
    "version": 3
   },
   "file_extension": ".py",
   "mimetype": "text/x-python",
   "name": "python",
   "nbconvert_exporter": "python",
   "pygments_lexer": "ipython3",
   "version": "3.11.10"
  }
 },
 "nbformat": 4,
 "nbformat_minor": 5
}
