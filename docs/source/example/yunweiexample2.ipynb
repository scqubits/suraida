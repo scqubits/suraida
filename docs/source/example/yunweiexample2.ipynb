{
 "cells": [
  {
   "cell_type": "markdown",
   "metadata": {},
   "source": [
    "This example is for buiding intuition concept of DRAG pulse [1], which aims to mitigate leakage to state 2 when we realize 0-1 transition in transmon. The relation between system system parameter and quantum dynamics can be seen from tunable figures based on suraida\n",
    "[1] Motzoi, F. et al., Phys. Rev. Lett., 103, 110501 (2009)"
   ]
  },
  {
   "cell_type": "code",
   "execution_count": 1,
   "metadata": {},
   "outputs": [],
   "source": [
    "from qutip import basis, destroy, sesolve, qeye, tensor, expect, QobjEvo\n",
    "import qutip as qt\n",
    "import numpy as np\n",
    "import jax.scipy.special as jsp\n",
    "import suraida as sr\n",
    "import matplotlib.pyplot as plt\n",
    "def DRAG(tlist, Kerr, tg ):\n",
    "    dim = 3\n",
    "    a = destroy(dim)\n",
    "    Kerr = Kerr *2*np.pi\n",
    "    H0 = 0.5 * Kerr * a.dag() * a.dag() * a * a\n",
    "    H1s = [a + a.dag(), 1j * (a - a.dag())]\n",
    "\n",
    "    time = tg\n",
    "    tsave = tlist\n",
    "    initial_states = [basis(dim, 0)]\n",
    "    exp_ops = [basis(dim, idx) * basis(dim, idx).dag() for idx in range(dim)]\n",
    "\n",
    "    def gaussian_env(t, sigma, matrix_element, tg, rot_angle=np.pi, ti=0):\n",
    "        tf = ti + tg\n",
    "        amp = rot_angle / (np.sqrt(2 * np.pi) * sigma * jsp.erf(tg / (2 * np.sqrt(2) * sigma)) - np.exp(-(tg / 2) ** 2 / (2 * sigma ** 2)) * tg) / matrix_element\n",
    "        offset = amp * np.exp(-(tg / 2) ** 2 / (2 * sigma ** 2))\n",
    "        return (amp * np.exp(-(t - ti - tg / 2) ** 2 / (2 * sigma ** 2)) - offset) * np.heaviside(t - ti, 0) * np.heaviside(tf - t, 0)\n",
    "\n",
    "    def dev_gaussian_env(t, sigma, matrix_element, tg, rot_angle=np.pi, ti=0):\n",
    "        tf = ti + tg\n",
    "        amp = rot_angle / (np.sqrt(2 * np.pi) * sigma * jsp.erf(tg / (2 * np.sqrt(2) * sigma)) - np.exp(-(tg / 2) ** 2 / (2 * sigma ** 2)) * tg) / matrix_element\n",
    "        d_amp = -amp * (t - ti - tg / 2) / (sigma ** 2) * np.exp(-(t - ti - tg / 2) ** 2 / (2 * sigma ** 2))\n",
    "        return d_amp * np.heaviside(t - ti, 0) * np.heaviside(tf - t, 0)\n",
    "\n",
    "    def I(t):\n",
    "        tg = time\n",
    "        sigma = tg / 3\n",
    "        matrix_element = 1\n",
    "        rot_angle = np.pi\n",
    "        return gaussian_env(t, sigma, matrix_element, tg, rot_angle) / 2\n",
    "\n",
    "    def Q(t):\n",
    "        tg = time\n",
    "        sigma = tg / 3\n",
    "        matrix_element = 1\n",
    "        rot_angle = np.pi\n",
    "        return dev_gaussian_env(t, sigma, matrix_element, tg, rot_angle) / 2 / (2 * Kerr)\n",
    "\n",
    "    def H_func(t, args):\n",
    "        H = H0\n",
    "        H += I(t) * H1s[0]\n",
    "        H += Q(t) * H1s[1]\n",
    "        return H\n",
    "\n",
    "    H = QobjEvo(H_func, args={})\n",
    "    options = {\"store_states\": True, \"atol\": 1e-12}\n",
    "    result = sesolve(H, initial_states[0], tsave, exp_ops, options = options)\n",
    "\n",
    "    # Extracting the results\n",
    "    result0 = expect(exp_ops[0], result.states)\n",
    "    result1 = expect(exp_ops[1], result.states)\n",
    "    result2 = expect(exp_ops[2], result.states)\n",
    "    return np.real(result0), np.real(result1), np.real(result2), I(tlist), Q(tlist)\n",
    "\n",
    "def Gaussian(tlist, Kerr, tg):\n",
    "    dim = 3\n",
    "    a = destroy(dim)\n",
    "    Kerr = Kerr *2*np.pi\n",
    "    H0 = 0.5 * Kerr * a.dag() * a.dag() * a * a\n",
    "    tlist = np.linspace(0, 100, 100)  # Example value, you can change it as needed\n",
    "\n",
    "    H0 = -0.5 * Kerr * a.dag() * a.dag() * a * a\n",
    "    H1s = [a + a.dag(), 1j * (a - a.dag())]\n",
    "\n",
    "    time = tg\n",
    "    tsave = tlist\n",
    "    initial_states = [basis(dim, 0)]\n",
    "    exp_ops = [basis(dim, idx) * basis(dim, idx).dag() for idx in range(dim)]\n",
    "\n",
    "    def gaussian_env(t, sigma, matrix_element, tg, rot_angle=np.pi, ti=0):\n",
    "        tf = ti + tg\n",
    "        amp = rot_angle / (np.sqrt(2 * np.pi) * sigma * jsp.erf(tg / (2 * np.sqrt(2) * sigma)) - np.exp(-(tg / 2) ** 2 / (2 * sigma ** 2)) * tg) / matrix_element\n",
    "        offset = amp * np.exp(-(tg / 2) ** 2 / (2 * sigma ** 2))\n",
    "        return (amp * np.exp(-(t - ti - tg / 2) ** 2 / (2 * sigma ** 2)) - offset) * np.heaviside(t - ti, 0) * np.heaviside(tf - t, 0)\n",
    "    def I(t):\n",
    "        tg = time\n",
    "        sigma = tg / 3\n",
    "        matrix_element = 1\n",
    "        rot_angle = np.pi\n",
    "        return gaussian_env(t, sigma, matrix_element, tg, rot_angle) / 2\n",
    "\n",
    "    def H_func(t, args):\n",
    "        H = H0\n",
    "        H += I(t) * H1s[0]\n",
    "        return H\n",
    "\n",
    "    H = QobjEvo(H_func, args={})\n",
    "    options = {\"store_states\": True, \"atol\": 1e-12}\n",
    "    result = sesolve(H, initial_states[0], tsave, exp_ops, options = options)\n",
    "    # Extracting the results\n",
    "    result0 = expect(exp_ops[0], result.states)\n",
    "    result1 = expect(exp_ops[1], result.states)\n",
    "    result2 = expect(exp_ops[2], result.states)\n",
    "    return np.real(result0), np.real(result1), np.real(result2)\n",
    "\n"
   ]
  },
  {
   "cell_type": "code",
   "execution_count": 2,
   "metadata": {},
   "outputs": [
    {
     "name": "stderr",
     "output_type": "stream",
     "text": [
      "/Users/yunwei/Desktop/PycharmProjects/qutip/qutip/solver/solver_base.py:576: FutureWarning: e_ops will be keyword only from qutip 5.3 for all solver\n",
      "  warnings.warn(\n"
     ]
    },
    {
     "data": {
      "application/vnd.jupyter.widget-view+json": {
       "model_id": "e0dcd839b17143dbb1f98a1ff0c262d4",
       "version_major": 2,
       "version_minor": 0
      },
      "text/plain": [
       "Dialog(children=[Card(children=[CardTitle(children=['Adjust Figure Settings'], layout=None), CardText(children…"
      ]
     },
     "metadata": {},
     "output_type": "display_data"
    },
    {
     "data": {
      "application/vnd.jupyter.widget-view+json": {
       "model_id": "602a97f0a70a4c4ea3fb75ff5340d471",
       "version_major": 2,
       "version_minor": 0
      },
      "text/plain": [
       "Container(children=[Container(children=[Container(children=[Output(layout=Layout(overflow='hidden'))], class_=…"
      ]
     },
     "metadata": {},
     "output_type": "display_data"
    }
   ],
   "source": [
    "def DRAG_plot(ax, tg, anh):\n",
    "    tlist = np.linspace(0, 50, 100)\n",
    "    result, result1, result2, I, Q = DRAG(tlist, anh, tg)\n",
    "    ax.plot(tlist, result, label='State |0⟩')\n",
    "    ax.plot(tlist, result1, label='State |1⟩')\n",
    "    ax.plot(tlist, result2, label='State |2⟩')\n",
    "    ax.legend()\n",
    "    ax.set_xlabel('Time')\n",
    "    ax.set_ylabel('Expectation Value')\n",
    "    ax.set_title('DRAG Expectation Values')\n",
    "\n",
    "def pulse_plot(ax, tg, anh):\n",
    "    tlist = np.linspace(0, 50, 100)\n",
    "    result, result1, result2, I, Q = DRAG(tlist, anh, tg)\n",
    "    ax.plot(tlist, I / (2 * np.pi), label='I Component')\n",
    "    ax.plot(tlist, Q / (2 * np.pi), label='Q Component')\n",
    "    ax.legend()\n",
    "    ax.set_xlabel('Time')\n",
    "    ax.set_ylabel('Amplitude')\n",
    "\n",
    "def Gaussian_plot(ax, tg, anh):\n",
    "    tlist = np.linspace(0, 50, 100)\n",
    "    result, result1, result2 = Gaussian(tlist, anh, tg)\n",
    "    ax.plot(tlist, result, label='State |0⟩')\n",
    "    ax.plot(tlist, result1, label='State |1⟩')\n",
    "    ax.plot(tlist, result2, label='State |2⟩')\n",
    "    ax.legend()\n",
    "    ax.set_xlabel('Time')\n",
    "    ax.set_ylabel('Expectation Value')\n",
    "    ax.set_title('Gaussian Pulse Expectation Values')\n",
    "\n",
    "# Interactive plotting using `sr.InteractivePlot`\n",
    "interactive_plot = sr.InteractivePlot(\n",
    "    [[DRAG_plot, Gaussian_plot], [pulse_plot, None]],  # Grid of subplots\n",
    "    [\n",
    "        [\"tg\", 5, 50.0, 1, 13],  # Time array\n",
    "        [\"anh\", 0.05, 0.5, 0.01, 0.14],  # Anharmonicity parameter\n",
    "    ]\n",
    ")\n"
   ]
  },
  {
   "cell_type": "markdown",
   "metadata": {},
   "source": []
  },
  {
   "cell_type": "code",
   "execution_count": null,
   "metadata": {},
   "outputs": [],
   "source": []
  },
  {
   "cell_type": "code",
   "execution_count": null,
   "metadata": {},
   "outputs": [],
   "source": []
  }
 ],
 "metadata": {
  "kernelspec": {
   "display_name": "fluxonium",
   "language": "python",
   "name": "python3"
  },
  "language_info": {
   "codemirror_mode": {
    "name": "ipython",
    "version": 3
   },
   "file_extension": ".py",
   "mimetype": "text/x-python",
   "name": "python",
   "nbconvert_exporter": "python",
   "pygments_lexer": "ipython3",
   "version": "3.11.8"
  }
 },
 "nbformat": 4,
 "nbformat_minor": 2
}
