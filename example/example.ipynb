{
 "cells": [
  {
   "cell_type": "code",
   "execution_count": 1,
   "id": "fee81a8b-87b7-40d2-8986-55527275f6db",
   "metadata": {},
   "outputs": [],
   "source": [
    "import suraida as sr\n",
    "import numpy as np"
   ]
  },
  {
   "cell_type": "code",
   "execution_count": 2,
   "id": "a2880460-f55d-4561-bb71-6726a48ac4ae",
   "metadata": {},
   "outputs": [],
   "source": [
    "def func(z, amplitude, omega, offset):\n",
    "    return amplitude * np.sin(omega * z) + offset"
   ]
  },
  {
   "cell_type": "code",
   "execution_count": 4,
   "id": "0976ca58-5289-48b5-8218-45f453e8ba13",
   "metadata": {},
   "outputs": [
    {
     "data": {
      "application/vnd.jupyter.widget-view+json": {
       "model_id": "cb423baf7d6e45f8a21827563886c025",
       "version_major": 2,
       "version_minor": 0
      },
      "text/plain": [
       "Html(children=[Output(layout=Layout(overflow='hidden')), Container(children=[FloatEntry(children=[TextField(de…"
      ]
     },
     "metadata": {},
     "output_type": "display_data"
    },
    {
     "data": {
      "text/plain": [
       "<suraida.gui.Manipulate at 0x1c7280a06d0>"
      ]
     },
     "execution_count": 4,
     "metadata": {},
     "output_type": "execute_result"
    }
   ],
   "source": [
    "sr.Manipulate(func,                          # the numerical function we wish to plot and manipulate parameters via sliders\n",
    "              var_def=[\"z\", 0, 7, 0.1],     # definition of the variable against which to plot `func`, specifying min, max and step\n",
    "              param_defs=[\n",
    "                  [\"amplitude\", 0, 2, 0.1],  # amplitude with min, max and step, default initial value is midpoint between min and max\n",
    "                  [\"omega\", 0, 4, 0.1, 1.0], # omega with min, max, step, ini\n",
    "                  [\"offset\", [-1, 0, 1]]     # offset as list of allowed values\n",
    "              ]\n",
    "             )"
   ]
  },
  {
   "cell_type": "code",
   "execution_count": null,
   "id": "7b8888d2-8f10-4844-ba40-d858b9a46a4f",
   "metadata": {},
   "outputs": [],
   "source": []
  }
 ],
 "metadata": {
  "kernelspec": {
   "display_name": "Python 3 (ipykernel)",
   "language": "python",
   "name": "python3"
  },
  "language_info": {
   "codemirror_mode": {
    "name": "ipython",
    "version": 3
   },
   "file_extension": ".py",
   "mimetype": "text/x-python",
   "name": "python",
   "nbconvert_exporter": "python",
   "pygments_lexer": "ipython3",
   "version": "3.11.10"
  }
 },
 "nbformat": 4,
 "nbformat_minor": 5
}
